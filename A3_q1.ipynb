{
  "nbformat": 4,
  "nbformat_minor": 0,
  "metadata": {
    "colab": {
      "provenance": [],
      "collapsed_sections": [],
      "authorship_tag": "ABX9TyMsjgdR51wuqsKyVdgshFsw",
      "include_colab_link": true
    },
    "kernelspec": {
      "name": "python3",
      "display_name": "Python 3"
    },
    "language_info": {
      "name": "python"
    }
  },
  "cells": [
    {
      "cell_type": "markdown",
      "metadata": {
        "id": "view-in-github",
        "colab_type": "text"
      },
      "source": [
        "<a href=\"https://colab.research.google.com/github/vuhahl/ITS140/blob/main/A3_q1.ipynb\" target=\"_parent\"><img src=\"https://colab.research.google.com/assets/colab-badge.svg\" alt=\"Open In Colab\"/></a>"
      ]
    },
    {
      "cell_type": "code",
      "execution_count": 22,
      "metadata": {
        "colab": {
          "base_uri": "https://localhost:8080/"
        },
        "id": "QPXXHJLj44gT",
        "outputId": "7000b6a2-22be-47e5-becd-7ea15fce57ef"
      },
      "outputs": [
        {
          "output_type": "stream",
          "name": "stdout",
          "text": [
            "Welcome! Please enter a number between 1 & 7:  7\n",
            "You've chosen Saturday!\n"
          ]
        }
      ],
      "source": [
        "week_day = int(input('Welcome! Please enter a number between 1 & 7:  '))\n",
        "if week_day > 7:\n",
        "  output = 'Uh oh! Please enter a number between 1 & 7 '\n",
        "\n",
        "if week_day == 1:\n",
        "  output = \"You've chosen Sunday!\"\n",
        "elif week_day == 2:\n",
        "  output = \"You've chosen Monday!\" \n",
        "elif week_day == 3:\n",
        "  output = \"You've chosen Tuesday!\"\n",
        "elif week_day == 4:\n",
        "  output = \"You've chose Wednesday!\"\n",
        "elif week_day == 5:\n",
        "  output = \"You've chosen Thursday!\"\n",
        "elif week_day == 6:\n",
        "  output = \"You've chosen Friday!\"\n",
        "elif week_day == 7:\n",
        "  output = \"You've chosen Saturday!\"\n",
        "\n",
        "print(output)\n"
      ]
    }
  ]
}